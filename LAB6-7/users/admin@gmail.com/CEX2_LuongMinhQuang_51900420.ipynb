{
 "cells": [
  {
   "cell_type": "code",
   "execution_count": 1,
   "id": "b2cfa2f8",
   "metadata": {},
   "outputs": [
    {
     "name": "stdout",
     "output_type": "stream",
     "text": [
      "10\n",
      "10\n",
      "10\n",
      "10\n"
     ]
    }
   ],
   "source": [
    "train_A1 = [5,5.11,5.6,5.9,4.8,5.8,5.3,5.8,5.5,5.6]\n",
    "train_A2 = [45,26,30,34,40,36,19,28,23,32]\n",
    "label = ['H','L','M','M','H','M','L','M','L','M']\n",
    "weight = [77,47,55,59,72,60,40,60,45,58]\n",
    "# cho điểm test \n",
    "test_a1=5.5\n",
    "test_a2=38\n",
    "print(len(train_A1))\n",
    "print(len(train_A2))\n",
    "print(len(label))\n",
    "print(len(weight))"
   ]
  },
  {
   "cell_type": "code",
   "execution_count": 2,
   "id": "e989ce3b",
   "metadata": {},
   "outputs": [
    {
     "name": "stdout",
     "output_type": "stream",
     "text": [
      "[7.0178344238090995, 12.006335827387138, 8.000624975587845, 4.019950248448356, 2.118962010041709, 2.0223748416156684, 19.001052602421794, 10.004498987955369, 15.0, 6.000833275470999]\n"
     ]
    }
   ],
   "source": [
    "import math\n",
    "# Euclidean\n",
    "def get_dis(test_a1,test_a2,train_A1,train_A2):\n",
    "    dis = []\n",
    "    for i in range(len(train_A1)):\n",
    "        d = (train_A1[i] - test_a1)**2 + (train_A2[i] - test_a2)**2\n",
    "        dis.append(math.sqrt(d))\n",
    "    return dis\n",
    "print(get_dis(test_a1,test_a2,train_A1,train_A2))\n"
   ]
  },
  {
   "cell_type": "code",
   "execution_count": 3,
   "id": "5e5e351a",
   "metadata": {},
   "outputs": [
    {
     "name": "stdout",
     "output_type": "stream",
     "text": [
      "[7.5, 12.39, 8.1, 4.4, 2.7, 2.3, 19.2, 10.3, 15.0, 6.1]\n"
     ]
    }
   ],
   "source": [
    "# Manhattan\n",
    "def get_dis(test_a1,test_a2,train_A1,train_A2):\n",
    "    dis = []\n",
    "    for i in range(len(train_A1)):\n",
    "        d = abs(train_A1[i] - test_a1) + abs(train_A2[i] - test_a2)\n",
    "        dis.append(d)\n",
    "    return dis\n",
    "print(get_dis(test_a1,test_a2,train_A1,train_A2))\n"
   ]
  },
  {
   "cell_type": "code",
   "execution_count": 4,
   "id": "6e1a7bf7",
   "metadata": {},
   "outputs": [
    {
     "name": "stdout",
     "output_type": "stream",
     "text": [
      "7.5 H\n",
      "12.39 L\n",
      "8.1 M\n",
      "4.4 M\n",
      "2.7 H\n",
      "2.3 M\n",
      "19.2 L\n",
      "10.3 M\n",
      "15.0 L\n",
      "6.1 M\n"
     ]
    }
   ],
   "source": [
    "d = get_dis(test_a1,test_a2,train_A1,train_A2)\n",
    "for i in range(len(d)):\n",
    "    print(d[i],end = \" \")\n",
    "    print(label[i])\n"
   ]
  },
  {
   "cell_type": "code",
   "execution_count": 5,
   "id": "2069383d",
   "metadata": {},
   "outputs": [
    {
     "name": "stdout",
     "output_type": "stream",
     "text": [
      "[5 4 3 9 0 2 7 1 8 6]\n",
      "[5 4 3]\n",
      "M\n",
      "H\n",
      "M\n"
     ]
    }
   ],
   "source": [
    "import numpy as np\n",
    "index = np.argsort(d)\n",
    "print(index)\n",
    "k = 3\n",
    "k_index = index[:k]\n",
    "print(k_index)\n",
    "for i in k_index:\n",
    "    print(label[i])"
   ]
  },
  {
   "cell_type": "code",
   "execution_count": 6,
   "id": "4e31cf5d",
   "metadata": {},
   "outputs": [
    {
     "name": "stdout",
     "output_type": "stream",
     "text": [
      "[5 4 3 9 0 2 7 1 8 6]\n",
      "[5 4 3]\n",
      "63.666666666666664\n"
     ]
    }
   ],
   "source": [
    "index = np.argsort(d)\n",
    "print(index)\n",
    "k = 3\n",
    "k_index = index[:k]\n",
    "print(k_index)\n",
    "res = 0 \n",
    "for i in k_index:\n",
    "    res += weight[i]\n",
    "print(res/3)\n"
   ]
  },
  {
   "cell_type": "code",
   "execution_count": 7,
   "id": "cfe1b006",
   "metadata": {},
   "outputs": [
    {
     "name": "stdout",
     "output_type": "stream",
     "text": [
      "[[[ 1  2  3]\n",
      "  [ 5  6  7]]\n",
      "\n",
      " [[ 7  8  9]\n",
      "  [10 11 12]]]\n"
     ]
    }
   ],
   "source": [
    "a = np.array([1,2,5,7])\n",
    "a1 = np.array([[1,2,3],[5,6,7]])\n",
    "a2 = np.array([[7,8,9],[10,11,12]])\n",
    "\n",
    "a = np.array([[[1,2,3],[5,6,7]],[[7,8,9],[10,11,12]]])\n",
    "print(a)\n",
    "\n"
   ]
  },
  {
   "cell_type": "code",
   "execution_count": 8,
   "id": "989ef245",
   "metadata": {},
   "outputs": [],
   "source": [
    "# K-NN\n",
    "# K-NN giải quyết các bài toán phức tạp\n",
    "# K-NN có độ chính xác khác cao\n",
    "# Dự đoán kết quả của dữ liệu mới đơn giản\n",
    "# Rất rủi ro khi K nhỏ"
   ]
  },
  {
   "cell_type": "code",
   "execution_count": null,
   "id": "c97e89ec",
   "metadata": {},
   "outputs": [],
   "source": []
  }
 ],
 "metadata": {
  "kernelspec": {
   "display_name": "Python 3 (ipykernel)",
   "language": "python",
   "name": "python3"
  },
  "language_info": {
   "codemirror_mode": {
    "name": "ipython",
    "version": 3
   },
   "file_extension": ".py",
   "mimetype": "text/x-python",
   "name": "python",
   "nbconvert_exporter": "python",
   "pygments_lexer": "ipython3",
   "version": "3.9.7"
  }
 },
 "nbformat": 4,
 "nbformat_minor": 5
}

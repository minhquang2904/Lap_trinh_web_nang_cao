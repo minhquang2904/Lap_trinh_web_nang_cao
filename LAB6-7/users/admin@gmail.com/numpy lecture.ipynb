{
 "cells": [
  {
   "cell_type": "markdown",
   "metadata": {},
   "source": [
    "NumPy is a Python library used for working with arrays.\n",
    "\n",
    "It also has functions for working in domain of linear algebra, fourier transform, and matrices.\n",
    "\n",
    "NumPy was created in 2005 by Travis Oliphant. It is an open source project and you can use it freely.\n",
    "\n",
    "NumPy stands for Numerical Python."
   ]
  },
  {
   "cell_type": "code",
   "execution_count": null,
   "metadata": {},
   "outputs": [],
   "source": [
    "# cài đặt numpy nếu chưa cài\n",
    "#pip install numpy"
   ]
  },
  {
   "cell_type": "code",
   "execution_count": 1,
   "metadata": {},
   "outputs": [
    {
     "name": "stdout",
     "output_type": "stream",
     "text": [
      "1.20.1\n"
     ]
    }
   ],
   "source": [
    "import numpy as np #nhập thư viện numpy\n",
    "#(là thư viện cốt lõi cho tính toán khoa học trong Python. \n",
    "#Nó cung cấp một đối tượng mảng đa chiều hiệu suất cao và các công cụ để làm việc với các mảng này.)\n",
    "print(np.__version__)"
   ]
  },
  {
   "cell_type": "markdown",
   "metadata": {},
   "source": [
    "Mục lục:\n",
    "1. Tạo mảng (Creating Array)\n",
    "2. Kích thước khuôn và ép khuôn (Shape and reshape)\n",
    "3. Chỉ số phần tử trong mảng (Array Indexing)\n",
    "4. Tách mảng con (Array Slicing) \n",
    "5. Lọc giá trị mảng bằng điều kiện (Array extraction by Condition)\n",
    "6. Tính toán trên ma trận (Operations on matrices)"
   ]
  },
  {
   "cell_type": "code",
   "execution_count": 2,
   "metadata": {},
   "outputs": [
    {
     "name": "stdout",
     "output_type": "stream",
     "text": [
      "one dim:\n",
      " [1 3 5 7]\n",
      "two dim:\n",
      " [[1 3 5]\n",
      " [2 4 6]]\n",
      "three dim:\n",
      " [[[ 1  3  5]\n",
      "  [ 2  4  6]]\n",
      "\n",
      " [[10 30 50]\n",
      "  [20 40 60]]]\n"
     ]
    }
   ],
   "source": [
    "# 1. creating array\n",
    "# one dimension\n",
    "arr = np.array([1,3,5,7])\n",
    "print('one dim:\\n',arr)\n",
    "# two dimensions \n",
    "arr = np.array([[1,3,5],\n",
    "                [2,4,6]])\n",
    "print('two dim:\\n',arr)\n",
    "# three dimensions: it means array of 2-dim arrays \n",
    "arr = np.array( [ [[1,3,5],[2,4,6]],\n",
    "                     [[10,30,50],[20,40,60]] \n",
    "                    ]   )\n",
    "print('three dim:\\n',arr)"
   ]
  },
  {
   "cell_type": "code",
   "execution_count": 35,
   "metadata": {},
   "outputs": [
    {
     "name": "stdout",
     "output_type": "stream",
     "text": [
      "[1, 2, 3]\n",
      "[1 2 3]\n",
      "[2 2 2 2 2]\n"
     ]
    }
   ],
   "source": [
    "# convert from list to numpy array \n",
    "a = [1,2,3]\n",
    "print(a) \n",
    "arr = np.array(a)\n",
    "print(arr)"
   ]
  },
  {
   "cell_type": "code",
   "execution_count": 34,
   "metadata": {},
   "outputs": [
    {
     "name": "stdout",
     "output_type": "stream",
     "text": [
      "[[4.5 4.5 4.5]\n",
      " [4.5 4.5 4.5]]\n",
      "[2 2 2 2 2]\n",
      "[[0.01888834 0.23105233 0.73590319]\n",
      " [0.42249653 0.63996952 0.17457706]]\n",
      "[0.12513783 0.33886594 0.15180212]\n",
      "[[[0.83701196 0.64058348 0.55261312 0.73110596]\n",
      "  [0.52162478 0.13127607 0.61851923 0.4318031 ]]\n",
      "\n",
      " [[0.75709295 0.26777998 0.98420076 0.91613044]\n",
      "  [0.65189709 0.33628074 0.8807207  0.43254357]]\n",
      "\n",
      " [[0.92162656 0.79654823 0.38310808 0.37098824]\n",
      "  [0.8303153  0.01445566 0.53472576 0.37626156]]]\n",
      "[0 9 6 3 8]\n",
      "[[1 8 9 2 5]\n",
      " [7 3 4 5 8]]\n"
     ]
    }
   ],
   "source": [
    "# create arrays randomly\n",
    "# - array with the same value\n",
    "a = np.full((2,3),4.5)\n",
    "print(a)\n",
    "a = np.full((5),2)\n",
    "print(a)\n",
    "# create array by multiple \n",
    "a = np.array([2]*5)\n",
    "print(a)\n",
    "\n",
    "# random values\n",
    "\n",
    "#Create an array of the given shape and populate it with random samples from a uniform distribution over [0, 1).\n",
    "a = np.random.rand(2,3) # array (2,3) with values in [0,1]\n",
    "print(a) \n",
    "a = np.random.rand(3) \n",
    "print(a) \n",
    "a = np.random.rand(3,2,4) \n",
    "print(a) \n",
    "# randint for values of integers \n",
    "a = np.random.randint(10,size=5) # values in [0,10]\n",
    "print(a)\n",
    "a = np.random.randint(10,size=(2,5))\n",
    "print(a)"
   ]
  },
  {
   "cell_type": "code",
   "execution_count": null,
   "metadata": {},
   "outputs": [],
   "source": []
  },
  {
   "cell_type": "code",
   "execution_count": 122,
   "metadata": {},
   "outputs": [
    {
     "name": "stdout",
     "output_type": "stream",
     "text": [
      "10\n",
      "[13, 20, 13, 13, 11]\n",
      "[13 20 13 13 11]\n"
     ]
    }
   ],
   "source": [
    "import random \n",
    "n = random.randint(10,20)\n",
    "print(n)\n",
    "a = [random.randint(10,20) for i in range(5) ]\n",
    "print(a)\n",
    "b = np.array(a)\n",
    "print(b) "
   ]
  },
  {
   "cell_type": "code",
   "execution_count": 121,
   "metadata": {},
   "outputs": [
    {
     "name": "stdout",
     "output_type": "stream",
     "text": [
      "(3, 4)\n",
      "3 4\n",
      "[[1 3 5 7 2 4]\n",
      " [6 8 1 1 1 1]]\n",
      "[[1 3 5 7 2 4]\n",
      " [6 8 1 1 1 1]]\n",
      "[[1 3 5 7 2 4]\n",
      " [6 8 1 1 1 1]]\n",
      "[1 3 5 7 2 4 6 8 1 1 1 1]\n",
      "[[1 3 5 7 2 4]\n",
      " [6 8 1 1 1 1]]\n",
      "[[1 3]\n",
      " [5 7]\n",
      " [2 4]\n",
      " [6 8]\n",
      " [1 1]\n",
      " [1 1]]\n"
     ]
    }
   ],
   "source": [
    "# 2. shape and reshape \n",
    "a = np.array([[1,3,5,7],\n",
    "                [2,4,6,8],[1,1,1,1]])\n",
    "print(a.shape)\n",
    "print(a.shape[0],a.shape[1])\n",
    "# reshape to (m,n)\n",
    "print(np.reshape(a,(2,6)))\n",
    "print(a.reshape(2,6))\n",
    "print(a.reshape(2,-1))\n",
    "\n",
    "# reshape to one line\n",
    "print(a.ravel())\n",
    "print(a.reshape(-1,6))\n",
    "print(a.reshape(6,-1))"
   ]
  },
  {
   "cell_type": "code",
   "execution_count": 50,
   "metadata": {},
   "outputs": [
    {
     "name": "stdout",
     "output_type": "stream",
     "text": [
      "1 3 5 7 \n",
      "\r",
      "shape = (2, 3)\n",
      "[[1 3 5]\n",
      " [2 4 6]]\n",
      "1\n",
      "3\n",
      "5\n",
      "2\n",
      "4\n",
      "6\n"
     ]
    }
   ],
   "source": [
    "# 2,3. array indexing and slicing \n",
    "# how to get/extract values by indexs in arrays\n",
    "a = np.array([1,3,5,7])\n",
    "for i in range(len(a)):\n",
    "    print(a[i], end=' ')\n",
    "b = np.array([[1,3,5],[2,4,6]])\n",
    "print('\\n\\rshape =',b.shape)\n",
    "print(b)\n",
    "for i in range(b.shape[0]):\n",
    "    for j in range(b.shape[1]):\n",
    "        print(b[i][j])"
   ]
  },
  {
   "cell_type": "code",
   "execution_count": 55,
   "metadata": {},
   "outputs": [
    {
     "name": "stdout",
     "output_type": "stream",
     "text": [
      "[1 2 3]\n",
      "[2 3]\n",
      "9\n",
      "[4 5 6 7 8]\n",
      "[1 2 3 4 5 6 7 8]\n"
     ]
    }
   ],
   "source": [
    "# how to get sub-array by indexs\n",
    "a = np.array([1,2,3,4,5,6,7,8,9])\n",
    "print(a[:3])\n",
    "print(a[1:3])\n",
    "print(a[-1])\n",
    "print(a[3:-1])\n",
    "print(a[:-1])\n"
   ]
  },
  {
   "cell_type": "code",
   "execution_count": 61,
   "metadata": {},
   "outputs": [
    {
     "name": "stdout",
     "output_type": "stream",
     "text": [
      "[[1 3 5]\n",
      " [2 4 6]]\n",
      "[[3 5]\n",
      " [4 6]]\n",
      "[[1 3]\n",
      " [2 4]]\n",
      "[[1 3 5]\n",
      " [2 4 6]]\n"
     ]
    }
   ],
   "source": [
    "# how to get sub-array of 2-dim arrays by indexs\n",
    "a = np.array([[1,3,5],[2,4,6]])\n",
    "print(a)\n",
    "print(a[0:2,1:3])\n",
    "print(a[:,:-1])\n",
    "print(a[:,:])"
   ]
  },
  {
   "cell_type": "code",
   "execution_count": 71,
   "metadata": {},
   "outputs": [
    {
     "name": "stdout",
     "output_type": "stream",
     "text": [
      "[0 1 2 3 4 5 6 7 8 9]\n",
      "[1 3 5 7 9]\n"
     ]
    }
   ],
   "source": [
    "#4. Array extraction by Condition\n",
    "a = np.array([i for i in range(10)])\n",
    "print(a)\n",
    "# get odd values\n",
    "b = a[a%2==1]\n",
    "print(b)\n"
   ]
  },
  {
   "cell_type": "code",
   "execution_count": 75,
   "metadata": {},
   "outputs": [
    {
     "name": "stdout",
     "output_type": "stream",
     "text": [
      "<U6\n",
      "int64\n"
     ]
    }
   ],
   "source": [
    "# 5. Data type\n",
    "arr = np.array(['apple', 'banana', 'cherry'])\n",
    "print(arr.dtype)\n",
    "arr = np.array([1, 2, 3, 4])\n",
    "print(arr.dtype)"
   ]
  },
  {
   "cell_type": "code",
   "execution_count": 87,
   "metadata": {},
   "outputs": [
    {
     "name": "stdout",
     "output_type": "stream",
     "text": [
      "[[1 2 3]\n",
      " [2 3 4]]\n",
      "[[1 1 1]\n",
      " [2 2 2]]\n"
     ]
    }
   ],
   "source": [
    "# 6. Operation on darray\n",
    "a = np.array([[1,2,3],[2,3,4]])\n",
    "b = np.array([[1,1,1],[2,2,2]])\n",
    "print(a)\n",
    "print(b)"
   ]
  },
  {
   "cell_type": "code",
   "execution_count": 95,
   "metadata": {},
   "outputs": [
    {
     "name": "stdout",
     "output_type": "stream",
     "text": [
      "[[2 3 4]\n",
      " [4 5 6]]\n",
      "add [[2 3 4]\n",
      " [4 5 6]]\n",
      "[[0 1 2]\n",
      " [0 1 2]]\n",
      "sub [[0 1 2]\n",
      " [0 1 2]]\n",
      "[[1 2 3]\n",
      " [4 6 8]]\n",
      "multiply [[1 2 3]\n",
      " [4 6 8]]\n",
      "[[1.  2.  3. ]\n",
      " [1.  1.5 2. ]]\n",
      "divide [[1.  2.  3. ]\n",
      " [1.  1.5 2. ]]\n"
     ]
    }
   ],
   "source": [
    "print(a+b)\n",
    "print('add',np.add(a,b))\n",
    "print(a-b)\n",
    "print('sub',np.subtract(a,b))\n",
    "print(a*b)\n",
    "print('multiply',np.multiply(a,b))\n",
    "print(a/b)\n",
    "print('divide',np.divide(a,b))"
   ]
  },
  {
   "cell_type": "code",
   "execution_count": 98,
   "metadata": {},
   "outputs": [
    {
     "name": "stdout",
     "output_type": "stream",
     "text": [
      "[[1 2 3]\n",
      " [2 3 4]]\n",
      "[[1 2]\n",
      " [1 2]\n",
      " [1 2]]\n",
      "[[ 6 12]\n",
      " [ 9 18]]\n",
      "[[1.         1.41421356 1.73205081]\n",
      " [1.41421356 1.73205081 2.        ]]\n"
     ]
    }
   ],
   "source": [
    "print(a)\n",
    "print(b.T) # Transpose of a matrix (ma trận chuyển vị))\n",
    "print(np.dot(a,b.T))\n",
    "print(np.sqrt(a))"
   ]
  },
  {
   "cell_type": "code",
   "execution_count": 108,
   "metadata": {},
   "outputs": [
    {
     "name": "stdout",
     "output_type": "stream",
     "text": [
      "[[1 2 3]\n",
      " [2 3 4]]\n",
      "[[1 1 1]\n",
      " [2 2 2]]\n",
      "[3 5 7]\n",
      "[6 9]\n",
      "concat:\n",
      "[[1 2 3]\n",
      " [2 3 4]\n",
      " [1 1 1]\n",
      " [2 2 2]]\n",
      "[[1 2 3 1 1 1]\n",
      " [2 3 4 2 2 2]]\n"
     ]
    }
   ],
   "source": [
    "# operation by axis of array\n",
    "print(a)\n",
    "print(b)\n",
    "# operation on by axis\n",
    "print(a.sum(axis=0))\n",
    "print(a.sum(axis=1))\n",
    "# combine a and b: numpy.concatenate \n",
    "print('concat:')\n",
    "print(np.concatenate((a,b),axis=0))\n",
    "print(np.concatenate((a,b),axis=1))"
   ]
  },
  {
   "cell_type": "code",
   "execution_count": 1,
   "metadata": {},
   "outputs": [
    {
     "ename": "NameError",
     "evalue": "name 'np' is not defined",
     "output_type": "error",
     "traceback": [
      "\u001b[1;31m---------------------------------------------------------------------------\u001b[0m",
      "\u001b[1;31mNameError\u001b[0m                                 Traceback (most recent call last)",
      "\u001b[1;32m~\\AppData\\Local\\Temp/ipykernel_2608/2972410354.py\u001b[0m in \u001b[0;36m<module>\u001b[1;34m\u001b[0m\n\u001b[1;32m----> 1\u001b[1;33m \u001b[0ma\u001b[0m \u001b[1;33m=\u001b[0m \u001b[0mnp\u001b[0m\u001b[1;33m.\u001b[0m\u001b[0marray\u001b[0m\u001b[1;33m(\u001b[0m\u001b[1;33m[\u001b[0m\u001b[1;36m1\u001b[0m\u001b[1;33m,\u001b[0m\u001b[1;36m2\u001b[0m\u001b[1;33m,\u001b[0m\u001b[1;36m5\u001b[0m\u001b[1;33m,\u001b[0m\u001b[1;36m7\u001b[0m\u001b[1;33m]\u001b[0m\u001b[1;33m)\u001b[0m\u001b[1;33m\u001b[0m\u001b[1;33m\u001b[0m\u001b[0m\n\u001b[0m\u001b[0;32m      2\u001b[0m \u001b[0mprint\u001b[0m\u001b[1;33m(\u001b[0m\u001b[0ma\u001b[0m\u001b[1;33m)\u001b[0m\u001b[1;33m\u001b[0m\u001b[1;33m\u001b[0m\u001b[0m\n",
      "\u001b[1;31mNameError\u001b[0m: name 'np' is not defined"
     ]
    }
   ],
   "source": [
    "a = np.array([1,2,5,7])\n",
    "print(a)"
   ]
  },
  {
   "cell_type": "code",
   "execution_count": null,
   "metadata": {},
   "outputs": [],
   "source": []
  }
 ],
 "metadata": {
  "kernelspec": {
   "display_name": "Python 3 (ipykernel)",
   "language": "python",
   "name": "python3"
  },
  "language_info": {
   "codemirror_mode": {
    "name": "ipython",
    "version": 3
   },
   "file_extension": ".py",
   "mimetype": "text/x-python",
   "name": "python",
   "nbconvert_exporter": "python",
   "pygments_lexer": "ipython3",
   "version": "3.9.7"
  }
 },
 "nbformat": 4,
 "nbformat_minor": 2
}
